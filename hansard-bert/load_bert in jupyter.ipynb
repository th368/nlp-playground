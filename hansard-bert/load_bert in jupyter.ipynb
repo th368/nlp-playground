{
 "cells": [
  {
   "cell_type": "code",
   "execution_count": 1,
   "metadata": {},
   "outputs": [],
   "source": [
    "import os\n",
    "import pandas as pd\n",
    "import numpy as np\n",
    "import tensorflow as tf\n",
    "import matplotlib.pyplot as plt\n",
    "import tensorflow_hub as hub\n",
    "import tensorflow_text as text\n",
    "from official.nlp import optimization  # to create AdamW optimizer\n",
    "from keras.utils import np_utils\n",
    "import official.nlp.bert.tokenization as tokenization\n",
    "from official.nlp import bert\n",
    "from sklearn.metrics import confusion_matrix, classification_report, ConfusionMatrixDisplay"
   ]
  },
  {
   "cell_type": "code",
   "execution_count": 2,
   "metadata": {},
   "outputs": [
    {
     "name": "stderr",
     "output_type": "stream",
     "text": [
      "C:\\Users\\tom_h\\AppData\\Local\\Temp/ipykernel_5032/6206804.py:10: DtypeWarning: Columns (8,10,11,12,15,16,18) have mixed types.Specify dtype option on import or set low_memory=False.\n",
      "  x_train, x_test, Y_train, Y_test = load_data()\n"
     ]
    }
   ],
   "source": [
    "# load custom functions\n",
    "from load_data import load_data, encode_parties\n",
    "from utils import load_model, evaluate_model, plot_history, predict_class\n",
    "from bert_functions import encode_names, bert_encode\n",
    "\n",
    "model_to_load = \"bert 1.0_v2\"\n",
    "\n",
    "# load in our model\n",
    "# create train/test splits and encode our parties\n",
    "x_train, x_test, Y_train, Y_test = load_data()\n",
    "y_train, y_test, decoder, encoder = encode_parties(pd.Series(Y_train), pd.Series(Y_test)) # fix this func pls\n",
    "\n",
    "bert_v1 = load_model(model_to_load, os.getcwd())\n",
    "# manually create our decoder as I forgot to save it\n",
    "tokenizerSaved = bert.tokenization.FullTokenizer(\n",
    "    vocab_file=os.path.join(os.getcwd(), model_to_load, 'assets/vocab.txt'),\n",
    "    do_lower_case=False)"
   ]
  },
  {
   "cell_type": "code",
   "execution_count": 3,
   "metadata": {},
   "outputs": [
    {
     "name": "stdout",
     "output_type": "stream",
     "text": [
      "[[2805  627  632]\n",
      " [ 445 2931  563]\n",
      " [ 392  459 3146]]\n",
      "                  precision    recall  f1-score   support\n",
      "\n",
      "    Conservative       0.77      0.69      0.73      4064\n",
      "          Labour       0.73      0.74      0.74      3939\n",
      "Liberal Democrat       0.72      0.79      0.75      3997\n",
      "\n",
      "        accuracy                           0.74     12000\n",
      "       macro avg       0.74      0.74      0.74     12000\n",
      "    weighted avg       0.74      0.74      0.74     12000\n",
      "\n"
     ]
    },
    {
     "data": {
      "image/png": "[encoded data removed]",
      "text/plain": [
       "<Figure size 432x288 with 2 Axes>"
      ]
     },
     "metadata": {
      "needs_background": "light"
     },
     "output_type": "display_data"
    }
   ],
   "source": [
    "%matplotlib inline\n",
    "### Accuracy checks!\n",
    "# check confusion matrices for each class\n",
    "test_results = bert_v1.predict(bert_encode(x_test, tokenizerSaved, 512))\n",
    "predicted_categories = tf.argmax(test_results, axis=1)\n",
    "true_categories = tf.concat(encoder.transform(Y_test), axis=0)\n",
    "# clean up our predicted and true categories for printing in the matrix...\n",
    "\n",
    "conf_matrix = confusion_matrix(y_pred = predicted_categories, y_true = true_categories, labels = [0,1,2]) # labels = ['Conservative', 'Labour', 'Liberal Democrat']) # produce our confusion matrix...\n",
    "print(conf_matrix)\n",
    "\n",
    "disp = ConfusionMatrixDisplay(confusion_matrix=conf_matrix,\n",
    "                             display_labels=decoder)\n",
    "disp.plot() # display our plot graphically\n",
    "# print report...\n",
    "print(classification_report(y_pred = predicted_categories, y_true = true_categories, target_names=decoder))"
   ]
  },
  {
   "cell_type": "code",
   "execution_count": 5,
   "metadata": {},
   "outputs": [
    {
     "name": "stdout",
     "output_type": "stream",
     "text": [
      "Party:  Conservative\n",
      "Correctly guessed:  69.02066929133859  %\n",
      "Total in class:  4064\n",
      "True positive:  2805\n",
      "True negative:  7936\n",
      "False negative:  1259\n",
      "False positive: 837\n",
      "\n",
      "Party:  Labour\n",
      "Correctly guessed:  74.40974866717441  %\n",
      "Total in class:  3939\n",
      "True positive:  2931\n",
      "True negative:  8061\n",
      "False negative:  1008\n",
      "False positive: 1086\n",
      "\n",
      "Party:  Liberal Democrat\n",
      "Correctly guessed:  78.70903177383038  %\n",
      "Total in class:  3997\n",
      "True positive:  3146\n",
      "True negative:  8003\n",
      "False negative:  851\n",
      "False positive: 1195\n",
      "\n"
     ]
    }
   ],
   "source": [
    "# word version of our confusion matrix\n",
    "classes, counts = np.unique(np.array(true_categories), return_counts = True)\n",
    "for i in range(len(decoder)):\n",
    "    not_i = classes.tolist()\n",
    "    not_i.pop(i)\n",
    "    print(\"Party: \", decoder[i])\n",
    "\n",
    "    tp = conf_matrix[i,i]\n",
    "    fn = conf_matrix[i, not_i]\n",
    "    print(\"Correctly guessed: \", tp/(sum(fn)+tp)*100, \" %\")\n",
    "    print(\"Total in class: \", str(counts[i]))\n",
    "\n",
    "    print(\"True positive: \", str(tp))\n",
    "    print(\"True negative: \", str(sum(sum(conf_matrix[not_i, :]))))\n",
    "\n",
    "\n",
    "    print(\"False negative: \", sum(fn))\n",
    "    print(\"False positive:\", sum(conf_matrix[not_i, i]))\n",
    "    print(\"\") # add whitespace"
   ]
  },
  {
   "cell_type": "code",
   "execution_count": 18,
   "metadata": {},
   "outputs": [
    {
     "name": "stdout",
     "output_type": "stream",
     "text": [
      "[[1.0214136e-03 9.9872559e-01 2.5305507e-04]]\n",
      "Speech predicted to be: Labour\n"
     ]
    }
   ],
   "source": [
    "\n",
    "### Playing around with our model\n",
    "bojo_speech = [\"the first time we have met since you defied the sceptics by winning councils and communities that Conservatives have never won in before – such as Hartlepool \" \\\n",
    "       \"in fact it’s the first time since the general election of 2019 when we finally sent the corduroyed communist cosmonaut into orbit where he belongs \" \\\n",
    "       \"and why are we back today for a traditional Tory cheek by jowler? It is because for months we have had one of the most open economies and societies \" \\\n",
    "       \"and on July 19 we decided to open every single theatre and every concert hall and night club in England and we knew that some people would still be anxious\" \\\n",
    "       \"so we sent top government representatives to our sweatiest boites de nuit to show that anyone could dance \" \\\n",
    "       \"perfectly safely and wasn’t he brilliant my friends? let’s hear it for Jon Bon Govi living proof that we, you all represent the most jiving hip happening and\" \\\n",
    "       \" generally funkapolitan party in the world and how have we managed to open up ahead of so many of our friends? You know the answer, its \" \\\n",
    "       \"because of the roll-out of that vaccine a UK phenomenon the magic potion invented in oxford university and bottled in wales \" \\\n",
    "       \"distributed at incredible speed to vaccination centres everywhere I saw the army in action in Glasgow \" \\\n",
    "       \"firing staple guns like carbines as they set up a huge vaccination centre and in Fermanagh I saw the needles go in like a collective sewing machine\" \\\n",
    "       \"and they vaccinated so rapidly that we were able to\"]\n",
    "\n",
    "\n",
    "bojo_input = bert_encode(string_list=list(bojo_speech),\n",
    "                     tokenizer=tokenizerSaved,\n",
    "                     max_seq_length=512)\n",
    "\n",
    "predict_class(bert_v1, bojo_input, decoder) # interestingly, it's extremely confident that this is a Labour speech\n"
   ]
  },
  {
   "cell_type": "code",
   "execution_count": 19,
   "metadata": {},
   "outputs": [
    {
     "name": "stdout",
     "output_type": "stream",
     "text": [
      "First cut...\n",
      "[[0.00122799 0.9976871  0.00108495]]\n",
      "Speech predicted to be: Labour\n",
      "None\n",
      "Second cut...\n",
      "[[0.9591304  0.0232132  0.01765638]]\n",
      "Speech predicted to be: Conservative\n",
      "None\n"
     ]
    }
   ],
   "source": [
    "david_c_speech_1 = [\"Conservative policies, policies you campaigned on, policies we are delivering. Two hundred new academies. Ten thousand university places. Fifty thousand apprenticeships.\" \\\n",
    "                 \"Corporation tax – cut. The jobs tax – axed. Police targets – smashed. Immigration – capped. The third runway – stopped. Home Information Packs – dropped. Fat cat salaries – revealed. ID Cards – abolished. The NHS – protected. Our aid promise – kept.\" \\\n",
    "                 \"Quangos – closing down. Ministers' pay – coming down. A bank levy – coming up. A cancer drugs fund – up and running. £6bn of spending saved this year. An emergency budget to balance the books in five years. An EU referendum lock to protect our sovereign powers every year.\" \\\n",
    "                 \"For our pensioners – the earnings link restored. For our new entrepreneurs – employees' tax reduced. And for our brave armed forces – the operational allowance doubled. \" \\\n",
    "                 \"Look what we've done in five months. Just imagine what we can do in five years. \" \\\n",
    "                 \"In five years time, our combat troops will have left Afghanistan. This party has steadfastly supported our mission there, and so will this government.\" \\\n",
    "                 \"But that does not mean simply accepting what went before. In our first few weeks in office, we set a clear new direction. Focused. Hard-headed. Time-limited.\"]\n",
    "\n",
    "david_c_speech_2 = [\"\"\"Corporation tax – cut. The jobs tax – axed. Police targets – smashed. Immigration – capped. The third runway – stopped. Home Information Packs – dropped. Fat cat salaries – revealed. ID Cards – abolished. The NHS – protected. Our aid promise – kept.\n",
    "Quangos – closing down. Ministers’ pay – coming down. A bank levy – coming up. A cancer drugs fund – up and running. £6bn of spending saved this year. An emergency budget to balance the books in five years. An EU referendum lock to protect our sovereign powers every year.\n",
    "\n",
    "For our pensioners – the earnings link restored. For our new entrepreneurs – employees’ tax reduced. And for our brave armed forces – the operational allowance doubled.\n",
    "\n",
    "Look what we’ve done in five months. Just imagine what we can do in five years.\n",
    "\n",
    "In five years time, our combat troops will have left Afghanistan. This party has steadfastly supported our mission there, and so will this government.\n",
    "\n",
    "But that does not mean simply accepting what went before. In our first few weeks in office, we set a clear new direction. Focused. Hard-headed. Time-limited.\n",
    "\n",
    "We are not in Afghanistan to build a perfect democracy. No dreamy ideas. Just hard-headed national security – pure and simple.\n",
    "\n",
    "Almost every terrorist who took part in 9/11 was trained by al-Qaida in Afghanistan. If we left tomorrow, those training camps could easily come back, because Afghans are not yet capable of securing their own country.\n",
    "\n",
    "But we will not stay a day longer than we need to. British combat forces will not remain in Afghanistan after 2015.\"\"\"]\n",
    "\n",
    "david_c_input_1 = bert_encode(string_list=list(david_c_speech_1),\n",
    "                     tokenizer=tokenizerSaved,\n",
    "                     max_seq_length=512)\n",
    "\n",
    "david_c_input_2 = bert_encode(string_list=list(david_c_speech_2),\n",
    "                     tokenizer=tokenizerSaved,\n",
    "                     max_seq_length=512)\n",
    "\n",
    "print(\"First cut...\")\n",
    "print(predict_class(bert_v1, david_c_input_1, decoder))\n",
    "\n",
    "print(\"Second cut...\")\n",
    "print(predict_class(bert_v1, david_c_input_2, decoder)) # depends heavily on the cut you give it"
   ]
  },
  {
   "cell_type": "code",
   "execution_count": 20,
   "metadata": {},
   "outputs": [
    {
     "name": "stdout",
     "output_type": "stream",
     "text": [
      "[[0.97385436 0.01527647 0.01086912]]\n",
      "Speech predicted to be: Conservative\n"
     ]
    }
   ],
   "source": [
    "hague_speech = [\"\"\"The first is to act in the belief that in a big jungle only big beasts survive; that as markets grow, so must the size of government. We can see this belief driving the way a number of Western European Governments behave, including our own.\n",
    "They are interfering more and more in the labour market, imposing statutory working hours, levy new taxes and enforcing new regulations in a mistaken belief that this will protect small citizens from the chill winds of the new economy. I say such an approach does not protect citizens. It puts them on the dole. Higher taxes and more regulations only serve to make it that much harder for any business, dot.com or more traditional, to be successful in the global market. Which is why my Party is particularly concerned that business in Britain is having to find £10 billion a year to meet the costs of new regulations and £30 billion of extra business taxes over the lifetime of this Parliament.\n",
    "\n",
    "I take a different approach, and I suspect many of you do as well.\n",
    "\n",
    "I believe Governments must recognise that this is the age of the small unit, the individual on the internet, the small business and large business alike using e-commerce, and that in this age it is the low tax, low regulation nation state is best placed to succeed.\n",
    "\n",
    "For in the dimension-less, go-anywhere world of the new economy, no country can take industry for granted - for industry can go to any country. The common sense approach would be to build on Britain's existing advantages of the English language, our excellent software skills, and our entrepreneurial spirit by keeping government interference to a minimum.\"\"\"]\n",
    "\n",
    "hague_input = bert_encode(string_list=list(hague_speech),\n",
    "                     tokenizer=tokenizerSaved,\n",
    "                     max_seq_length=512)\n",
    "\n",
    "predict_class(bert_v1, hague_input, decoder)"
   ]
  }
 ],
 "metadata": {
  "interpreter": {
   "hash": "b20edf1af9b82eff4e405f0e4ada9188f13ea59e4906a20cc4dda5de703fc9ef"
  },
  "kernelspec": {
   "display_name": "Python 3.9.7 64-bit ('venv': venv)",
   "name": "python3"
  },
  "language_info": {
   "codemirror_mode": {
    "name": "ipython",
    "version": 3
   },
   "file_extension": ".py",
   "mimetype": "text/x-python",
   "name": "python",
   "nbconvert_exporter": "python",
   "pygments_lexer": "ipython3",
   "version": "3.9.7"
  },
  "orig_nbformat": 4
 },
 "nbformat": 4,
 "nbformat_minor": 2
}
